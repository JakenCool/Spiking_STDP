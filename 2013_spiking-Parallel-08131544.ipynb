{
 "cells": [
  {
   "cell_type": "markdown",
   "metadata": {},
   "source": [
    "# 2013_spiking_parallel"
   ]
  },
  {
   "cell_type": "markdown",
   "metadata": {},
   "source": [
    "与串行不同的是，并行的时候是对con的dynamics进行控制"
   ]
  },
  {
   "cell_type": "code",
   "execution_count": 1,
   "metadata": {},
   "outputs": [],
   "source": [
    "from brian2 import *\n",
    "%matplotlib inline\n",
    "import numpy as np"
   ]
  },
  {
   "cell_type": "code",
   "execution_count": 2,
   "metadata": {},
   "outputs": [
    {
     "name": "stderr",
     "output_type": "stream",
     "text": [
      "INFO       The following preferences have been changed for Brian2GeNN, reset them manually if you use a different device later in the same script: codegen.loop_invariant_optimisations, core.network.default_schedule [brian2.devices.genn]\n"
     ]
    }
   ],
   "source": [
    "import brian2genn\n",
    "set_device('genn')"
   ]
  },
  {
   "cell_type": "markdown",
   "metadata": {},
   "source": [
    "# parameter"
   ]
  },
  {
   "cell_type": "code",
   "execution_count": 3,
   "metadata": {},
   "outputs": [],
   "source": [
    "k=200\n",
    "NE=4*k\n",
    "NI=1*k\n",
    "NO=5*k\n",
    "\n",
    "\n",
    "########time constant#######\n",
    "#for each neuron\n",
    "TE=20*ms\n",
    "TI=10*ms\n",
    "\n",
    "\n",
    "#for synaptic variable(including NMDA and AMPA)\n",
    "TEI=TII=5*ms\n",
    "TEE_N=150*ms\n",
    "TEE_A=50*ms\n",
    "TIE_N=45*ms\n",
    "TIE_A=20*ms\n",
    "TEO=100*ms\n",
    "\n",
    "#proba\n",
    "rou=0.1\n",
    "#strength(大小，最终还有正负号) 且用数目和概率做一个scaling\n",
    "JEE=JIE=10/sqrt(NE*rou)*2\n",
    "JEI=JII=15/sqrt(NI*rou)*2\n",
    "JEO=100/sqrt(NO*rou)\n",
    "#strength test(not balanced)\n",
    "# JEE=100/sqrt(NE*rou)\n",
    "# JIE=200/sqrt(NE*rou)\n",
    "# JEI=200/sqrt(NI*rou)\n",
    "# JII=100/sqrt(NI*rou)\n",
    "# JEO=100/sqrt(NO*rou)\n",
    "\n",
    "\n",
    "\n",
    "#proportion of NMDA and AMPA\n",
    "q_EE_N=0.5\n",
    "q_EE_A=0.5\n",
    "q_IE_N=0.2\n",
    "q_IE_A=0.8"
   ]
  },
  {
   "cell_type": "markdown",
   "metadata": {},
   "source": [
    "# create neurons and populations"
   ]
  },
  {
   "cell_type": "code",
   "execution_count": 4,
   "metadata": {},
   "outputs": [],
   "source": [
    "eqs='''\n",
    "dv/dt=(-v+J_E*(q*con_E_N+(1-q)*con_E_A)-J_I*con_I+J_O*con_O)/tau_neuron:1 (unless refractory)\n",
    "dcon_E_N/dt = -con_E_N/tau_E_N :1 \n",
    "dcon_E_A/dt = -con_E_A/tau_E_A :1 \n",
    "dcon_I/dt = -con_I/tau_I :1\n",
    "dcon_O/dt = -con_O/tau_O :1\n",
    "q:1\n",
    "J_E:1\n",
    "J_I:1\n",
    "J_O:1\n",
    "tau_E_A:second\n",
    "tau_E_N:second\n",
    "tau_I:second\n",
    "tau_O:second\n",
    "tau_neuron:second\n",
    "'''\n",
    "#define all neurons in one group\n",
    "G=NeuronGroup(NE+NI,eqs,threshold=\"v>1\",reset=\"v=0\",refractory=2*ms, method='exact')\n",
    "\n",
    "G_E=G[:int(NE)]\n",
    "G_I=G[int(NE):]\n",
    "\n",
    "#parameters:\n",
    "G.tau_neuron[0:int(NE)] = TE\n",
    "G.tau_neuron[int(NE):] = TI\n",
    "G.tau_E_N[0:int(NE)] = TEE_N\n",
    "G.tau_E_N[int(NE):] = TIE_N\n",
    "G.tau_E_A[0:int(NE)] = TEE_A\n",
    "G.tau_E_A[int(NE):] = TIE_A\n",
    "G.tau_I[0:int(NE)] = TEI\n",
    "G.tau_I[int(NE):] = TII\n",
    "G.tau_O[0:int(NE)] = TEO\n",
    "G.tau_O[int(NE):] = 1*ms #这里随意，反正I的con_O一直是0\n",
    "G.q[0:int(NE)] = q_EE_N\n",
    "G.q[int(NE):] = q_IE_N\n",
    "G.J_E[0:int(NE)] = JEE\n",
    "G.J_E[int(NE):] = JIE\n",
    "G.J_I[0:int(NE)] = JEI\n",
    "G.J_I[int(NE):] = JII\n",
    "G.J_O[0:int(NE)] = JEO\n",
    "G.J_O[int(NE):] = 0\n",
    "#Initial values:\n",
    "G.v[:]=[uniform(0,1) for i in range(NI+NE)]\n",
    "\n",
    "\n"
   ]
  },
  {
   "cell_type": "markdown",
   "metadata": {},
   "source": [
    "# Synapses"
   ]
  },
  {
   "cell_type": "code",
   "execution_count": 5,
   "metadata": {
    "scrolled": true
   },
   "outputs": [],
   "source": [
    "\n",
    "#equations for synapses from inhibitory neurons\n",
    "eqs_I='''\n",
    "w:1\n",
    "'''\n",
    "#equations for synapses from inhibitory neurons\n",
    "#q是N的含量\n",
    "eqs_E='''\n",
    "w_N:1\n",
    "w_A:1\n",
    "'''\n",
    "\n",
    "\n",
    "syn_EI=Synapses(G_I,G_E,eqs_I,on_pre=\"con_I_post+=w\",method=\"exact\")\n",
    "syn_II=Synapses(G_I,G_I,eqs_I,on_pre=\"con_I_post+=w\",method=\"exact\")\n",
    "syn_IE=Synapses(G_E,G_I,eqs_E,on_pre=\"con_E_N_post+=w_N\",method=\"exact\")\n",
    "syn_EE=Synapses(G_E,G_E,eqs_E,on_pre=\"con_E_N_post+=w_N\",method=\"exact\")\n",
    "\n",
    "#\n",
    "syn_EI.connect(p=rou)\n",
    "syn_II.connect(p=rou)\n",
    "syn_IE.connect(p=rou)\n",
    "syn_EE.connect(p=rou)\n",
    "\n",
    "#注意：这里可能需要用N*P进行scale一下...不用scale!不能scale!(之前的con就是sum了)\n",
    "syn_EI.w=1/(TEI/ms)\n",
    "syn_II.w=1/(TII/ms)\n",
    "syn_IE.w_N=1/(TIE_N/ms)\n",
    "syn_IE.w_A=1/(TIE_A/ms)\n",
    "syn_EE.w_N=1/(TEE_N/ms)\n",
    "syn_EE.w_A=1/(TEE_A/ms)\n",
    "\n",
    "\n",
    "\n",
    "# net=Network(collect())"
   ]
  },
  {
   "cell_type": "code",
   "execution_count": 6,
   "metadata": {},
   "outputs": [],
   "source": [
    "# ###External neurons 只是连接到E上面###\n",
    "# P=PoissonGroup(NO,rates=40*Hz)  #rates= 40Hz\n",
    "# #External input synapses:在simulation的时候加，一开始没有，然后加上去，然后再去掉external input\n",
    "# eqs_O='''\n",
    "# w:1\n",
    "# '''\n",
    "# syn_OE=Synapses(P,G_E,eqs_O,on_pre=\"con_O_post+=w\",method=\"exact\")\n",
    "# syn_OE.connect(p=rou)\n",
    "# #\n",
    "# # syn_OE.J=JEO\n",
    "# syn_OE.w=1/(TEO/ms)\n",
    "# # syn_OE.tau=TEO "
   ]
  },
  {
   "cell_type": "code",
   "execution_count": 8,
   "metadata": {},
   "outputs": [],
   "source": [
    "P = PoissonInput(G_E,'con_O',NO,rate=0*Hz,weight=rou/(TEO/ms))\n",
    "net=Network(collect())"
   ]
  },
  {
   "cell_type": "markdown",
   "metadata": {},
   "source": [
    "# Simulation"
   ]
  },
  {
   "cell_type": "code",
   "execution_count": 9,
   "metadata": {},
   "outputs": [],
   "source": [
    "statemon_G = StateMonitor(G, 'v', record=True)\n",
    "net.add(statemon_G)\n",
    "spikemon_G=SpikeMonitor(G)\n",
    "net.add(spikemon_G) \n",
    "#rate\n",
    "ratemon_E = PopulationRateMonitor(G_E)\n",
    "net.add(ratemon_E)\n",
    "ratemon_I = PopulationRateMonitor(G_I)\n",
    "net.add(ratemon_I)\n",
    "ratemon_G = PopulationRateMonitor(G)\n",
    "net.add(ratemon_G)\n",
    "###for testing\n",
    "statemon_G_con_I = StateMonitor(G, 'con_I', record=True)\n",
    "statemon_G_con_E_N = StateMonitor(G, 'con_E_N', record=True)\n",
    "statemon_G_con_E_A = StateMonitor(G, 'con_E_A', record=True)\n",
    "statemon_G_con_O = StateMonitor(G, 'con_O', record=True)\n",
    "net.add(statemon_G_con_I)\n",
    "net.add(statemon_G_con_O)\n",
    "net.add(statemon_G_con_E_N)\n",
    "net.add(statemon_G_con_E_A)"
   ]
  },
  {
   "cell_type": "code",
   "execution_count": null,
   "metadata": {},
   "outputs": [],
   "source": [
    "# dec_time=100*ms\n",
    "# sti_time=50*ms\n",
    "# mem_time=500*ms\n",
    "\n",
    "\n",
    "# #先让network自己跑一段时间\n",
    "# net.run(dec_time)\n",
    "# #再加入external input\n",
    "# net.add(P)\n",
    "# net.add(syn_OE)\n",
    "# net.run(sti_time)\n",
    "# #再去掉externa input\n",
    "# net.remove(P)\n",
    "# net.remove(syn_OE)\n",
    "# G.con_O=0\n",
    "# net.run(mem_time)"
   ]
  },
  {
   "cell_type": "code",
   "execution_count": 10,
   "metadata": {},
   "outputs": [
    {
     "name": "stdout",
     "output_type": "stream",
     "text": [
      "running brian code generation ...\n",
      "building genn executable ...\n"
     ]
    },
    {
     "ename": "NotImplementedError",
     "evalue": "GeNN only supports a single network",
     "output_type": "error",
     "traceback": [
      "\u001b[0;31m---------------------------------------------------------------------------\u001b[0m",
      "\u001b[0;31mNotImplementedError\u001b[0m                       Traceback (most recent call last)",
      "\u001b[0;32m<ipython-input-10-f8a1f6475ccc>\u001b[0m in \u001b[0;36m<module>\u001b[0;34m()\u001b[0m\n\u001b[1;32m      5\u001b[0m \u001b[0;34m\u001b[0m\u001b[0m\n\u001b[1;32m      6\u001b[0m \u001b[0;31m#先让network自己跑一段时间\u001b[0m\u001b[0;34m\u001b[0m\u001b[0;34m\u001b[0m\u001b[0m\n\u001b[0;32m----> 7\u001b[0;31m \u001b[0mnet\u001b[0m\u001b[0;34m.\u001b[0m\u001b[0mrun\u001b[0m\u001b[0;34m(\u001b[0m\u001b[0mdec_time\u001b[0m\u001b[0;34m)\u001b[0m\u001b[0;34m\u001b[0m\u001b[0m\n\u001b[0m\u001b[1;32m      8\u001b[0m \u001b[0;31m#再加入external input\u001b[0m\u001b[0;34m\u001b[0m\u001b[0;34m\u001b[0m\u001b[0m\n\u001b[1;32m      9\u001b[0m \u001b[0mP\u001b[0m\u001b[0;34m.\u001b[0m\u001b[0mrate\u001b[0m\u001b[0;34m=\u001b[0m\u001b[0;36m40\u001b[0m\u001b[0;34m*\u001b[0m\u001b[0mHz\u001b[0m\u001b[0;34m\u001b[0m\u001b[0m\n",
      "\u001b[0;32m/home/jintao/anaconda2/lib/python2.7/site-packages/brian2/core/base.pyc\u001b[0m in \u001b[0;36mdevice_override_decorated_function\u001b[0;34m(*args, **kwds)\u001b[0m\n\u001b[1;32m    274\u001b[0m             \u001b[0mcurdev\u001b[0m \u001b[0;34m=\u001b[0m \u001b[0mget_device\u001b[0m\u001b[0;34m(\u001b[0m\u001b[0;34m)\u001b[0m\u001b[0;34m\u001b[0m\u001b[0m\n\u001b[1;32m    275\u001b[0m             \u001b[0;32mif\u001b[0m \u001b[0mhasattr\u001b[0m\u001b[0;34m(\u001b[0m\u001b[0mcurdev\u001b[0m\u001b[0;34m,\u001b[0m \u001b[0mname\u001b[0m\u001b[0;34m)\u001b[0m\u001b[0;34m:\u001b[0m\u001b[0;34m\u001b[0m\u001b[0m\n\u001b[0;32m--> 276\u001b[0;31m                 \u001b[0;32mreturn\u001b[0m \u001b[0mgetattr\u001b[0m\u001b[0;34m(\u001b[0m\u001b[0mcurdev\u001b[0m\u001b[0;34m,\u001b[0m \u001b[0mname\u001b[0m\u001b[0;34m)\u001b[0m\u001b[0;34m(\u001b[0m\u001b[0;34m*\u001b[0m\u001b[0margs\u001b[0m\u001b[0;34m,\u001b[0m \u001b[0;34m**\u001b[0m\u001b[0mkwds\u001b[0m\u001b[0;34m)\u001b[0m\u001b[0;34m\u001b[0m\u001b[0m\n\u001b[0m\u001b[1;32m    277\u001b[0m             \u001b[0;32melse\u001b[0m\u001b[0;34m:\u001b[0m\u001b[0;34m\u001b[0m\u001b[0m\n\u001b[1;32m    278\u001b[0m                 \u001b[0;32mreturn\u001b[0m \u001b[0mfunc\u001b[0m\u001b[0;34m(\u001b[0m\u001b[0;34m*\u001b[0m\u001b[0margs\u001b[0m\u001b[0;34m,\u001b[0m \u001b[0;34m**\u001b[0m\u001b[0mkwds\u001b[0m\u001b[0;34m)\u001b[0m\u001b[0;34m\u001b[0m\u001b[0m\n",
      "\u001b[0;32m/home/jintao/anaconda2/lib/python2.7/site-packages/Brian2GeNN-1.1.5+git-py2.7.egg/brian2genn/device.pyc\u001b[0m in \u001b[0;36mnetwork_run\u001b[0;34m(self, net, duration, report, report_period, namespace, profile, level, **kwds)\u001b[0m\n\u001b[1;32m   1569\u001b[0m                                             \u001b[0mreport_period\u001b[0m\u001b[0;34m=\u001b[0m\u001b[0mreport_period\u001b[0m\u001b[0;34m,\u001b[0m\u001b[0;34m\u001b[0m\u001b[0m\n\u001b[1;32m   1570\u001b[0m                                             \u001b[0mnamespace\u001b[0m\u001b[0;34m=\u001b[0m\u001b[0mnamespace\u001b[0m\u001b[0;34m,\u001b[0m\u001b[0;34m\u001b[0m\u001b[0m\n\u001b[0;32m-> 1571\u001b[0;31m                                             level=level + 1)\n\u001b[0m\u001b[1;32m   1572\u001b[0m         \u001b[0mself\u001b[0m\u001b[0;34m.\u001b[0m\u001b[0mrun_statement_used\u001b[0m \u001b[0;34m=\u001b[0m \u001b[0mTrue\u001b[0m\u001b[0;34m\u001b[0m\u001b[0m\n\u001b[1;32m   1573\u001b[0m \u001b[0;34m\u001b[0m\u001b[0m\n",
      "\u001b[0;32m/home/jintao/anaconda2/lib/python2.7/site-packages/brian2/devices/cpp_standalone/device.pyc\u001b[0m in \u001b[0;36mnetwork_run\u001b[0;34m(self, net, duration, report, report_period, namespace, profile, level, **kwds)\u001b[0m\n\u001b[1;32m   1297\u001b[0m                                    \u001b[0;34m'device.build call to use multiple run '\u001b[0m\u001b[0;34m\u001b[0m\u001b[0m\n\u001b[1;32m   1298\u001b[0m                                    'statements with this device.')\n\u001b[0;32m-> 1299\u001b[0;31m             \u001b[0mself\u001b[0m\u001b[0;34m.\u001b[0m\u001b[0mbuild\u001b[0m\u001b[0;34m(\u001b[0m\u001b[0mdirect_call\u001b[0m\u001b[0;34m=\u001b[0m\u001b[0mFalse\u001b[0m\u001b[0;34m,\u001b[0m \u001b[0;34m**\u001b[0m\u001b[0mself\u001b[0m\u001b[0;34m.\u001b[0m\u001b[0mbuild_options\u001b[0m\u001b[0;34m)\u001b[0m\u001b[0;34m\u001b[0m\u001b[0m\n\u001b[0m\u001b[1;32m   1300\u001b[0m \u001b[0;34m\u001b[0m\u001b[0m\n\u001b[1;32m   1301\u001b[0m     \u001b[0;32mdef\u001b[0m \u001b[0mnetwork_store\u001b[0m\u001b[0;34m(\u001b[0m\u001b[0mself\u001b[0m\u001b[0;34m,\u001b[0m \u001b[0mnet\u001b[0m\u001b[0;34m,\u001b[0m \u001b[0;34m*\u001b[0m\u001b[0margs\u001b[0m\u001b[0;34m,\u001b[0m \u001b[0;34m**\u001b[0m\u001b[0mkwds\u001b[0m\u001b[0;34m)\u001b[0m\u001b[0;34m:\u001b[0m\u001b[0;34m\u001b[0m\u001b[0m\n",
      "\u001b[0;32m/home/jintao/anaconda2/lib/python2.7/site-packages/Brian2GeNN-1.1.5+git-py2.7.egg/brian2genn/device.pyc\u001b[0m in \u001b[0;36mbuild\u001b[0;34m(self, directory, compile, run, use_GPU, debug, with_output, direct_call)\u001b[0m\n\u001b[1;32m    650\u001b[0m \u001b[0;34m\u001b[0m\u001b[0m\n\u001b[1;32m    651\u001b[0m         \u001b[0;32mif\u001b[0m \u001b[0mlen\u001b[0m\u001b[0;34m(\u001b[0m\u001b[0mnetworks\u001b[0m\u001b[0;34m)\u001b[0m \u001b[0;34m!=\u001b[0m \u001b[0;36m1\u001b[0m\u001b[0;34m:\u001b[0m\u001b[0;34m\u001b[0m\u001b[0m\n\u001b[0;32m--> 652\u001b[0;31m             \u001b[0;32mraise\u001b[0m \u001b[0mNotImplementedError\u001b[0m\u001b[0;34m(\u001b[0m\u001b[0;34m\"GeNN only supports a single network\"\u001b[0m\u001b[0;34m)\u001b[0m\u001b[0;34m\u001b[0m\u001b[0m\n\u001b[0m\u001b[1;32m    653\u001b[0m         \u001b[0mnet\u001b[0m \u001b[0;34m=\u001b[0m \u001b[0mnetworks\u001b[0m\u001b[0;34m[\u001b[0m\u001b[0;36m0\u001b[0m\u001b[0;34m]\u001b[0m\u001b[0;34m\u001b[0m\u001b[0m\n\u001b[1;32m    654\u001b[0m \u001b[0;34m\u001b[0m\u001b[0m\n",
      "\u001b[0;31mNotImplementedError\u001b[0m: GeNN only supports a single network"
     ]
    }
   ],
   "source": [
    "dec_time=100*ms\n",
    "sti_time=50*ms\n",
    "mem_time=500*ms\n",
    "\n",
    "\n",
    "#先让network自己跑一段时间\n",
    "net.run(dec_time)\n",
    "#再加入external input\n",
    "P.rate=40*Hz\n",
    "net.run(sti_time)\n",
    "#再去掉externa input\n",
    "P.rate=0*Hz\n",
    "G.con_O=0\n",
    "net.run(mem_time)"
   ]
  },
  {
   "cell_type": "markdown",
   "metadata": {},
   "source": [
    "# plot"
   ]
  },
  {
   "cell_type": "code",
   "execution_count": null,
   "metadata": {
    "scrolled": true
   },
   "outputs": [],
   "source": [
    "#firing rate\n",
    "figure(figsize=(20,10))\n",
    "plot(ratemon_E.t/ms,ratemon_E.smooth_rate(window='flat', width=2*ms)/Hz,label=\"firing rate_E\")\n",
    "plot(ratemon_I.t/ms,ratemon_I.smooth_rate(window='flat', width=2*ms)/Hz,label=\"firing rate_I\")\n",
    "plot(ratemon_G.t/ms,ratemon_G.smooth_rate(window='flat', width=2*ms)/Hz,c=\"k\",label=\"firing rate_G\")\n",
    "# axhline(y=500,color=\"r\",label=\"max\")\n",
    "axhline(y=0,color=\"g\",label=\"0\")\n",
    "axvline(dec_time/ms, ls='--', c='C2', lw=3)\n",
    "axvline((dec_time+sti_time)/ms, ls='--', c='C2', lw=3)\n",
    "plt.title(\"firing rate\")\n",
    "legend()"
   ]
  },
  {
   "cell_type": "code",
   "execution_count": null,
   "metadata": {
    "scrolled": true
   },
   "outputs": [],
   "source": [
    "plot(ratemon_E.t[-3000:]/ms,ratemon_E.smooth_rate(window='flat', width=2*ms)[-3000:]/Hz,label=\"firing rate_E\")\n",
    "plot(ratemon_I.t[-3000:]/ms,ratemon_I.smooth_rate(window='flat', width=2*ms)[-3000:]/Hz,label=\"firing rate_I\")\n",
    "plot(ratemon_G.t[-3000:]/ms,ratemon_G.smooth_rate(window='flat', width=2*ms)[-3000:]/Hz,label=\"firing rate_G\")\n",
    "\n",
    "axhline(y=0,color=\"g\",label=\"0\")\n",
    "axvline(dec_time/ms, ls='--', c='C2', lw=3)\n",
    "axvline((dec_time+sti_time)/ms, ls='--', c='C2', lw=3)\n",
    "legend()"
   ]
  },
  {
   "cell_type": "code",
   "execution_count": null,
   "metadata": {
    "scrolled": true
   },
   "outputs": [],
   "source": [
    "train=spikemon_G.spike_trains()\n",
    "figure(figsize=(20,10))\n",
    "for i in range(len(train)):\n",
    "    plot(train[i]/ms,ones(len(train[i]))*i,'.')\n",
    "\n",
    "axvline(dec_time/ms, ls='--', c='C2', lw=3)\n",
    "axvline((dec_time+sti_time)/ms, ls='--', c='C2', lw=3)"
   ]
  },
  {
   "cell_type": "markdown",
   "metadata": {},
   "source": [
    "# Test"
   ]
  },
  {
   "cell_type": "code",
   "execution_count": null,
   "metadata": {},
   "outputs": [],
   "source": [
    "#下面test的neuron的index\n",
    "s=0"
   ]
  },
  {
   "cell_type": "code",
   "execution_count": null,
   "metadata": {},
   "outputs": [],
   "source": [
    "#voltage(主要看neuron0)\n",
    "figure()\n",
    "plot(statemon_G.t/ms, statemon_G.v[s], label='Neuron 0')\n",
    "plt.title(\"voltage\")\n",
    "axvline(dec_time/ms, ls='--', c='C2', lw=3)\n",
    "axvline((dec_time+sti_time)/ms, ls='--', c='C2', lw=3)\n",
    "legend()\n"
   ]
  },
  {
   "cell_type": "code",
   "execution_count": null,
   "metadata": {},
   "outputs": [],
   "source": [
    "#contribution (the first neuron)\n",
    "figure()\n",
    "total=-statemon_G.v[s]+statemon_G_con_E_A.con_E_A[s]+statemon_G_con_E_N.con_E_N[s]-statemon_G_con_I.con_I[s]+statemon_G_con_O.con_O[s]\n",
    "plot(statemon_G_con_I.t/ms, statemon_G_con_I.con_I[s], label='I')\n",
    "plot(statemon_G_con_E_A.t/ms, statemon_G_con_E_A.con_E_A[s], label='E_A')\n",
    "plot(statemon_G_con_E_N.t/ms, statemon_G_con_E_N.con_E_N[s], label='E_N')\n",
    "plot(statemon_G_con_O.t/ms, statemon_G_con_O.con_O[s], label='O')\n",
    "plot(statemon_G_con_O.t/ms,total,label=\"total\")\n",
    "axvline(dec_time/ms, ls='--', c='C2', lw=3)\n",
    "axvline((dec_time+sti_time)/ms, ls='--', c='C2', lw=3)\n",
    "plt.title(\"contribution\")\n",
    "legend()\n"
   ]
  },
  {
   "cell_type": "markdown",
   "metadata": {},
   "source": [
    "## remark"
   ]
  },
  {
   "cell_type": "markdown",
   "metadata": {},
   "source": [
    "*   当strength取15，10的时候，最终会dacay，没有persistent的效果\n",
    "*   JEO取100（较大），原因可能是总的neuron数目比较少，strength用根号scaling的缘故\n",
    "*   只要是Balance的条件(JEE=JIE;JEI=JII)且比较大，大多数情况最终都会达到一个比较好看的persistant(水平线形状),有时候(JEE=JIE=50;JEI=JII=250 在进行scaling)时候会有limit cycle(周期形状)\n",
    "*   将balance条件打破时候JEE=100;JIE=200;JEI=200;JII=100;JEO=100 没有persistant的现象了\n",
    "*   在上一条的参数下，当运行很长时间以后，发现firing rate是不断增加的，只是比较平缓罢了，也许可以考虑减少JEE,JIE?但是就运行到几百ms是图像还是很好看的。 然而，此时的v回答道-10,是不科学的\n",
    "*   若stregth太小了，比如10和15，则最终会decay下去"
   ]
  }
 ],
 "metadata": {
  "kernelspec": {
   "display_name": "Python 2",
   "language": "python",
   "name": "python2"
  },
  "language_info": {
   "codemirror_mode": {
    "name": "ipython",
    "version": 2
   },
   "file_extension": ".py",
   "mimetype": "text/x-python",
   "name": "python",
   "nbconvert_exporter": "python",
   "pygments_lexer": "ipython2",
   "version": "2.7.15"
  }
 },
 "nbformat": 4,
 "nbformat_minor": 2
}
