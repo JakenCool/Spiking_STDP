{
 "cells": [
  {
   "cell_type": "code",
   "execution_count": 1,
   "metadata": {},
   "outputs": [
    {
     "name": "stderr",
     "output_type": "stream",
     "text": [
      "INFO       Cache size for target \"cython\": 1221 MB.\n",
      "You can call \"clear_cache('cython')\" to delete all files from the cache or manually delete files in the \"C:\\Users\\golde\\.cython\\brian_extensions\" directory. [brian2]\n"
     ]
    }
   ],
   "source": [
    "from brian2 import *\n",
    "import matplotlib.pyplot as plt\n",
    "import numpy as np\n",
    "\n"
   ]
  },
  {
   "cell_type": "code",
   "execution_count": 2,
   "metadata": {},
   "outputs": [],
   "source": [
    "rpost1 = 30*Hz\n",
    "rpost2 = 10*Hz\n",
    "rpre = 60*Hz\n",
    "N = 5000\n",
    "T=3*second\n",
    "\n",
    "rpost = TimedArray([rpost1,rpost2],dt=T/2)\n",
    "\n",
    "post = PoissonGroup(N, rates='rpost(t)')\n",
    "pre  = PoissonGroup(N, rates=rpre)\n",
    "\n",
    "t_forw = 15*ms\n",
    "t_back = 20*ms\n",
    "t_r = 2000*ms\n",
    "A_forw = 7e-3\n",
    "A_back = A_forw * t_forw/t_back\n",
    "\n",
    "S = Synapses(pre, post,\n",
    "         '''\n",
    "         w : 1\n",
    "         do_j1/dt  = -o_j1/t_forw   : 1 (event-driven)\n",
    "         do_i1/dt  = -o_i1/t_back  : 1 (event-driven)\n",
    "         dr_i1/dt  = -r_i1/t_r     : 1 (event-driven)\n",
    "         do_j/dt = (o_j1 - o_j)/t_forw : 1 (event-driven) \n",
    "         do_i/dt = (o_i1 - o_i)/t_back : 1 (event-driven) \n",
    "         dr_i/dt = (r_i1 - r_i)/t_r    : 1 (event-driven)\n",
    "         ''',\n",
    "         on_pre='''\n",
    "                w = w + o_i * A_back * r_i\n",
    "                o_j1+= 1\n",
    "                ''',\n",
    "         on_post='''\n",
    "                w = w - o_j * A_forw * r_i\n",
    "                o_i1+=1\n",
    "                r_i1+=1\n",
    "                ''',\n",
    "         )\n",
    "S.connect(j='i')\n",
    "w_ori = .5\n",
    "S.w = w_ori\n",
    "\n",
    "w_mon = StateMonitor(S, 'w',record=range(N))\n",
    "post_mon = SpikeMonitor(post)\n",
    "pre_mon = SpikeMonitor(pre)\n",
    "\n",
    "run(T)\n",
    "\n"
   ]
  },
  {
   "cell_type": "code",
   "execution_count": 3,
   "metadata": {},
   "outputs": [
    {
     "data": {
      "image/png": "[encoded data removed]",
      "text/plain": [
       "<Figure size 432x288 with 1 Axes>"
      ]
     },
     "metadata": {},
     "output_type": "display_data"
    }
   ],
   "source": [
    "plt.plot(w_mon.t/second,mean(w_mon.w.T,1))\n",
    "plt.xlabel('time (s)')\n",
    "plt.ylabel('weight (a.u.)')\n",
    "plt.title(r'$r_{pre}=%dHz$, $r_{post}=%dHz->%dHz$'%(rpre,rpost1,rpost2))\n",
    "plt.show()\n"
   ]
  }
 ],
 "metadata": {
  "kernelspec": {
   "display_name": "Python 3",
   "language": "python",
   "name": "python3"
  },
  "language_info": {
   "codemirror_mode": {
    "name": "ipython",
    "version": 3
   },
   "file_extension": ".py",
   "mimetype": "text/x-python",
   "name": "python",
   "nbconvert_exporter": "python",
   "pygments_lexer": "ipython3",
   "version": "3.6.5"
  }
 },
 "nbformat": 4,
 "nbformat_minor": 2
}
