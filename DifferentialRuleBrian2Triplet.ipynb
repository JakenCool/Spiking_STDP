{
 "cells": [
  {
   "cell_type": "code",
   "execution_count": 1,
   "metadata": {},
   "outputs": [],
   "source": [
    "from brian2 import *\n",
    "import matplotlib.pyplot as plt\n",
    "import numpy as np\n",
    "\n"
   ]
  },
  {
   "cell_type": "code",
   "execution_count": 2,
   "metadata": {},
   "outputs": [],
   "source": [
    "rpost1 = 30*Hz\n",
    "rpost2 = 10*Hz\n",
    "rpre = 60*Hz\n",
    "N = 5000\n",
    "T=3*second\n",
    "\n",
    "rpost = TimedArray([rpost1,rpost2],dt=T/2)\n",
    "\n",
    "post = PoissonGroup(N, rates='rpost(t)')\n",
    "pre  = PoissonGroup(N, rates=rpre)\n",
    "\n",
    "tis = 10*ms\n",
    "til = 50*ms\n",
    "tjs = 15*ms\n",
    "tjl = 30*ms\n",
    "Ad = 1\n",
    "Ap = Ad*tis*tjl/tjs/til\n",
    "\n",
    "S = Synapses(pre, post,\n",
    "         '''w : 1\n",
    "            dois1/dt = -ois1 / tis : 1 (event-driven)\n",
    "            dois/dt  = (ois1-ois) / tis : 1 (event-driven)\n",
    "            doil1/dt = -oil1 / til : 1 (event-driven)\n",
    "            doil/dt  = (oil1-oil) / til : 1 (event-driven)\n",
    "            dojs1/dt = -ojs1 / tjs : 1 (event-driven)\n",
    "            dojs/dt  = (ojs1-ojs) / tjs : 1 (event-driven)\n",
    "            dojl1/dt = -ojl1 / tjl : 1 (event-driven)\n",
    "            dojl/dt  = (ojl1-ojl) / tjl : 1 (event-driven)\n",
    "            ''',\n",
    "         on_pre='''ojs1+=1\n",
    "                   ojl1+=1\n",
    "                   ''',\n",
    "         on_post='''w = w + Ap*ojs1*oil - Ad*ois1*ojl\n",
    "                    ois1+=1\n",
    "                    oil1+=1\n",
    "                    ''',\n",
    "         )\n",
    "S.connect(j='i')\n",
    "w_ori = 0\n",
    "S.w = w_ori\n",
    "\n",
    "w_mon = StateMonitor(S, 'w',record=range(N))\n",
    "post_mon = SpikeMonitor(post)\n",
    "pre_mon = SpikeMonitor(pre)\n",
    "\n",
    "run(T)\n",
    "\n"
   ]
  },
  {
   "cell_type": "code",
   "execution_count": 3,
   "metadata": {},
   "outputs": [
    {
     "data": {
      "image/png": "[encoded data removed]",
      "text/plain": [
       "<Figure size 432x288 with 1 Axes>"
      ]
     },
     "metadata": {},
     "output_type": "display_data"
    }
   ],
   "source": [
    "plt.plot(w_mon.t/second,mean(w_mon.w.T,1))\n",
    "plt.xlabel('time (s)')\n",
    "plt.ylabel('weight (a.u.)')\n",
    "plt.title(r'$r_{pre}=%dHz$, $r_{post}=%dHz->%dHz$'%(rpre,rpost1,rpost2))\n",
    "plt.show()\n"
   ]
  }
 ],
 "metadata": {
  "kernelspec": {
   "display_name": "Python 3",
   "language": "python",
   "name": "python3"
  },
  "language_info": {
   "codemirror_mode": {
    "name": "ipython",
    "version": 3
   },
   "file_extension": ".py",
   "mimetype": "text/x-python",
   "name": "python",
   "nbconvert_exporter": "python",
   "pygments_lexer": "ipython3",
   "version": "3.6.5"
  }
 },
 "nbformat": 4,
 "nbformat_minor": 2
}
