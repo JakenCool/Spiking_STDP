{
 "cells": [
  {
   "cell_type": "code",
   "execution_count": 1,
   "metadata": {},
   "outputs": [
    {
     "name": "stderr",
     "output_type": "stream",
     "text": [
      "INFO       Cache size for target \"cython\": 1249 MB.\n",
      "You can call \"clear_cache('cython')\" to delete all files from the cache or manually delete files in the \"C:\\Users\\golde\\.cython\\brian_extensions\" directory. [brian2]\n"
     ]
    }
   ],
   "source": [
    "from brian2 import *\n",
    "import matplotlib.pyplot as plt\n",
    "import numpy as np\n",
    "\n"
   ]
  },
  {
   "cell_type": "code",
   "execution_count": 2,
   "metadata": {},
   "outputs": [],
   "source": [
    "rpost1 = 30*Hz\n",
    "rpost2 = 10*Hz\n",
    "rpre = 60*Hz\n",
    "N = 5000\n",
    "T=3*second\n",
    "\n",
    "rpost = TimedArray([rpost1,rpost2],dt=T/2)\n",
    "\n",
    "post = PoissonGroup(N, rates='rpost(t)')\n",
    "pre  = PoissonGroup(N, rates=rpre)\n",
    "\n",
    "t1 = 10*ms\n",
    "t2 = 10*ms\n",
    "t3 = 16*ms\n",
    "t4 = 25.75*ms\n",
    "A12 = 412\n",
    "A34 = 100\n",
    "\n",
    "S = Synapses(pre, post,\n",
    "         '''w : 1\n",
    "            dr1/dt = -r1 / t1 : 1 (event-driven)\n",
    "            dr2/dt = -r2 / t3 : 1 (event-driven)\n",
    "            do1/dt = -o1 / t2 : 1 (event-driven)\n",
    "            do2/dt = -o2 / t4 : 1 (event-driven)''',\n",
    "         on_pre='''r1+=1\n",
    "                   r2+=1\n",
    "                   ''',\n",
    "         on_post='''w = w - A12*r1*o1 + A34*r2*o2\n",
    "                    o1+=1\n",
    "                    o2+=1\n",
    "                    ''',\n",
    "         )\n",
    "S.connect(j='i')\n",
    "w_ori = .5\n",
    "S.w = w_ori\n",
    "\n",
    "w_mon = StateMonitor(S, 'w',record=range(N))\n",
    "post_mon = SpikeMonitor(post)\n",
    "pre_mon = SpikeMonitor(pre)\n",
    "\n",
    "run(T)\n",
    "\n"
   ]
  },
  {
   "cell_type": "code",
   "execution_count": 3,
   "metadata": {},
   "outputs": [
    {
     "data": {
      "image/png": "[encoded data removed]",
      "text/plain": [
       "<Figure size 432x288 with 1 Axes>"
      ]
     },
     "metadata": {},
     "output_type": "display_data"
    }
   ],
   "source": [
    "plt.plot(w_mon.t/second,mean(w_mon.w.T,1))\n",
    "plt.xlabel('time (s)')\n",
    "plt.ylabel('weight (a.u.)')\n",
    "plt.title(r'$r_{pre}=%dHz$, $r_{post}=%dHz->%dHz$'%(rpre,rpost1,rpost2))\n",
    "plt.show()\n"
   ]
  }
 ],
 "metadata": {
  "kernelspec": {
   "display_name": "Python 3",
   "language": "python",
   "name": "python3"
  },
  "language_info": {
   "codemirror_mode": {
    "name": "ipython",
    "version": 3
   },
   "file_extension": ".py",
   "mimetype": "text/x-python",
   "name": "python",
   "nbconvert_exporter": "python",
   "pygments_lexer": "ipython3",
   "version": "3.6.5"
  }
 },
 "nbformat": 4,
 "nbformat_minor": 2
}
